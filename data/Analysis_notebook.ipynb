{
 "cells": [
  {
   "cell_type": "code",
   "execution_count": null,
   "metadata": {},
   "outputs": [],
   "source": [
    "# Import libraries\n",
    "\n",
    "import pandas as pd \n",
    "import numpy as np \n",
    "import seaborn as sns \n",
    "from preprolib import myfunctions\n",
    "import matplotlib.pyplot as plt "
   ]
  },
  {
   "cell_type": "code",
   "execution_count": null,
   "metadata": {},
   "outputs": [],
   "source": [
    "# Importing the data\n",
    "df = pd.read_csv(r'C:\\Users\\User\\Desktop\\Projects\\Green Crop Yield\\data\\Train.csv')\n",
    "test = pd.read_csv(r'C:\\Users\\User\\Desktop\\Projects\\Green Crop Yield\\data\\Test.csv')\n",
    "data_desc = pd.read_csv(r'C:\\Users\\User\\Desktop\\Projects\\Green Crop Yield\\data\\VariableDescription.csv')"
   ]
  },
  {
   "cell_type": "code",
   "execution_count": null,
   "metadata": {},
   "outputs": [],
   "source": [
    "df.columns"
   ]
  },
  {
   "cell_type": "code",
   "execution_count": null,
   "metadata": {},
   "outputs": [],
   "source": [
    "# Example: Data Preprocessing\n",
    "cat_cols = []\n",
    "num_cols = []\n",
    "ignore_list = ['ID','CropTillageDate', 'RcNursEstDate','Yield','SeedingSowingTransplanting','Harv_date','Threshing_date']\n",
    "\n",
    "myfunctions.cat_or_num(df, ignore_list, num_cols, cat_cols)"
   ]
  },
  {
   "cell_type": "code",
   "execution_count": null,
   "metadata": {},
   "outputs": [],
   "source": [
    "cat_cols"
   ]
  },
  {
   "cell_type": "code",
   "execution_count": null,
   "metadata": {},
   "outputs": [],
   "source": [
    "label = 'Yield'\n",
    "features = num_cols + cat_cols"
   ]
  },
  {
   "cell_type": "code",
   "execution_count": null,
   "metadata": {},
   "outputs": [],
   "source": [
    "features"
   ]
  },
  {
   "cell_type": "code",
   "execution_count": null,
   "metadata": {},
   "outputs": [],
   "source": [
    "num_plots = len(features)\n",
    "fig, axes = plt.subplots(num_plots, 1, figsize=(10, 5*num_plots))\n",
    "\n",
    "# Loop through the features list and plot histograms\n",
    "for i, col in enumerate(features):\n",
    "    ax = axes[i]\n",
    "    if col in num_cols:\n",
    "        # If it's a numerical column, plot a histogram\n",
    "        sns.histplot(data=df, x=col, ax=ax, kde=True)\n",
    "        ax.set_title(f'Histogram of {col} (Numerical)')\n",
    "    else:\n",
    "        # If it's a categorical column, plot a countplot\n",
    "        sns.countplot(data=df, x=col, ax=ax)\n",
    "        ax.set_title(f'Countplot of {col} (Categorical)')\n",
    "    ax.set_xlabel('')\n",
    "\n",
    "# Adjust layout and show the plots\n",
    "plt.tight_layout()\n",
    "plt.show()"
   ]
  },
  {
   "cell_type": "code",
   "execution_count": 19,
   "metadata": {},
   "outputs": [
    {
     "name": "stdout",
     "output_type": "stream",
     "text": [
      "[[-0.60846419 -0.7047623   0.4516101  ...  1.          0.\n",
      "   1.        ]\n",
      " [-0.28006002 -0.1688793  -1.31377483 ...  0.          0.\n",
      "   1.        ]\n",
      " [-0.73982585 -0.66903677  0.4516101  ...  1.          0.\n",
      "   1.        ]\n",
      " ...\n",
      " [-0.28006002 -0.1688793   1.33430256 ...  0.          0.\n",
      "   1.        ]\n",
      " [-0.11585794 -0.1688793  -0.43108237 ...  0.          0.\n",
      "   1.        ]\n",
      " [-0.11585794 -0.2760559  -1.31377483 ...  0.          0.\n",
      "   1.        ]]\n"
     ]
    }
   ],
   "source": [
    "import pandas as pd\n",
    "from sklearn.compose import ColumnTransformer\n",
    "from sklearn.pipeline import Pipeline\n",
    "from sklearn.preprocessing import StandardScaler\n",
    "from sklearn.model_selection import train_test_split\n",
    "\n",
    "\n",
    "\n",
    "# Define transformers for numerical and categorical columns\n",
    "numeric_transformer = Pipeline(steps=[\n",
    "    ('scaler', StandardScaler())\n",
    "])\n",
    "\n",
    "# Custom transformer using onehot_seperator\n",
    "from sklearn.base import BaseEstimator, TransformerMixin\n",
    "\n",
    "class OneHotSeparator(BaseEstimator, TransformerMixin):\n",
    "    def __init__(self, columns):\n",
    "        self.columns = columns\n",
    "\n",
    "    def fit(self, X, y=None):\n",
    "        return self\n",
    "\n",
    "    def transform(self, X):\n",
    "        for column in self.columns:\n",
    "            # Your implementation of onehot_seperator function\n",
    "            # Convert specific columns to string type\n",
    "            X[column] = X[column].astype(str)\n",
    "            words = X[column].str.split()\n",
    "            unique_words = set(word for word_list in words for word in word_list)\n",
    "            for word in unique_words:\n",
    "                X[word] = X[column].apply(lambda x: word in x)\n",
    "                X[word] = X[word].astype(int)\n",
    "            X = X.drop(column, axis=1)\n",
    "        return X\n",
    "\n",
    "categorical_transformer = Pipeline(steps=[\n",
    "    ('onehot_separator', OneHotSeparator(columns=cat_cols))\n",
    "])\n",
    "\n",
    "# Create a column transformer that applies the transformers to the respective columns\n",
    "preprocessor = ColumnTransformer(\n",
    "    transformers=[\n",
    "        ('num', numeric_transformer, num_cols),\n",
    "        ('cat', categorical_transformer, cat_cols)\n",
    "    ])\n",
    "\n",
    "# Create the full data preprocessing pipeline\n",
    "data_preprocessing_pipeline = Pipeline(steps=[\n",
    "    ('preprocessor', preprocessor)\n",
    "])\n",
    "\n",
    "# Fit and transform the data\n",
    "X = df[features]\n",
    "y = df[label]\n",
    "X_preprocessed = data_preprocessing_pipeline.fit_transform(X)\n",
    "\n",
    "# Split the data into train and test sets\n",
    "X_train, X_test, y_train, y_test = train_test_split(X_preprocessed, y, test_size=0.2, random_state=42)\n",
    "\n",
    "# Now you have X_train, X_test, y_train, and y_test for further processing\n",
    "\n",
    "# Display a sample of the preprocessed data\n",
    "print(X_train)\n"
   ]
  },
  {
   "cell_type": "code",
   "execution_count": null,
   "metadata": {},
   "outputs": [],
   "source": [
    "from sklearn.linear_model import LinearRegression\n",
    "from sklearn.ensemble import RandomForestRegressor\n",
    "from sklearn.tree import DecisionTreeRegressor\n",
    "from sklearn.metrics import mean_squared_error\n",
    "import numpy as np\n",
    "\n",
    "# Initialize the models\n",
    "models = {\n",
    "    'Linear Regression': LinearRegression(),\n",
    "    'Random Forest': RandomForestRegressor(),\n",
    "    'Decision Tree': DecisionTreeRegressor()\n",
    "}\n",
    "\n",
    "# Create a dictionary to store RMSE values\n",
    "rmse_results = {}\n",
    "\n",
    "# Iterate through the models and calculate RMSE\n",
    "for model_name, model in models.items():\n",
    "    # Fit the model on the training data\n",
    "    model.fit(X_train, y_train)\n",
    "    \n",
    "    # Make predictions on the test data\n",
    "    y_pred = model.predict(X_test)\n",
    "    \n",
    "    # Calculate RMSE\n",
    "    rmse = np.sqrt(mean_squared_error(y_test, y_pred))\n",
    "    \n",
    "    # Store the RMSE in the dictionary\n",
    "    rmse_results[model_name] = rmse\n",
    "\n",
    "# Print the RMSE for each model\n",
    "for model_name, rmse in rmse_results.items():\n",
    "    print(f'{model_name} RMSE: {rmse:.2f}')\n"
   ]
  },
  {
   "cell_type": "code",
   "execution_count": null,
   "metadata": {},
   "outputs": [],
   "source": [
    "features"
   ]
  },
  {
   "cell_type": "code",
   "execution_count": null,
   "metadata": {},
   "outputs": [],
   "source": []
  }
 ],
 "metadata": {
  "kernelspec": {
   "display_name": "NewEnv",
   "language": "python",
   "name": "python3"
  },
  "language_info": {
   "codemirror_mode": {
    "name": "ipython",
    "version": 3
   },
   "file_extension": ".py",
   "mimetype": "text/x-python",
   "name": "python",
   "nbconvert_exporter": "python",
   "pygments_lexer": "ipython3",
   "version": "3.8.13"
  }
 },
 "nbformat": 4,
 "nbformat_minor": 2
}
